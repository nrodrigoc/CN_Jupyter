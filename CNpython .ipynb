{
 "cells": [
  {
   "cell_type": "markdown",
   "metadata": {},
   "source": [
    "# Método da pivotação parcial\n",
    "\n",
    "## Cálculo numérico"
   ]
  },
  {
   "cell_type": "code",
   "execution_count": 3,
   "metadata": {},
   "outputs": [
    {
     "name": "stdout",
     "output_type": "stream",
     "text": [
      "Collecting numpy\n",
      "\u001b[?25l  Downloading https://files.pythonhosted.org/packages/05/4b/55cfbfd3e5e85016eeef9f21c0ec809d978706a0d60b62cc28aeec8c792f/numpy-1.17.0-cp37-cp37m-manylinux1_x86_64.whl (20.3MB)\n",
      "\u001b[K     |████████████████████████████████| 20.3MB 3.3MB/s eta 0:00:01    |███                             | 1.9MB 3.3MB/s eta 0:00:06\n",
      "\u001b[?25hInstalling collected packages: numpy\n",
      "Successfully installed numpy-1.17.0\n"
     ]
    }
   ],
   "source": [
    "!pip install numpy"
   ]
  },
  {
   "cell_type": "code",
   "execution_count": 6,
   "metadata": {},
   "outputs": [
    {
     "name": "stdout",
     "output_type": "stream",
     "text": [
      "=#=#=#=#=#=#=#=#=#=# Pivoteamento Pacial =#=#=#=#=#=#=#=#=#=#\n",
      "Matriz inicial: \n",
      "[ 8.0000   6.0000   0.0000   |  2.0000 ]\n",
      "[ 2.0000  -8.0000   5.0000   |  4.0000 ]\n",
      "[-10.0000 10.0000  15.0000   |  8.0000 ]\n",
      "=#=#=#=#=#=#=#=#=#=#=#=#=#=#=#=#=#=#=#=#=#=#=#=#=#=#=#=#=#=#=# \n",
      "\n",
      "Matriz final: \n",
      "[ 8.0000   6.0000   0.0000   |  2.0000 ]\n",
      "[ 0.0000  17.0000  15.0000   | 10.0000 ]\n",
      "[ 0.0000   0.0000  12.0000   |  8.0000 ]\n"
     ]
    }
   ],
   "source": [
    "import numpy as np\n",
    "\n",
    "a = np.array([[8, 6, 0], [2, -8, 5], [-10, 10, 15]])\n",
    "b = np.array([[2], [4], [8]])\n",
    "\n",
    "print(\"=#\"*10, \"Pivoteamento Pacial\", \"=#\"*10)\n",
    "print(\"Matriz inicial: \")\n",
    "for l in range(0, 3):\n",
    "    print('[', end='')\n",
    "    for c in range(0, 3):\n",
    "        print(f'{a[l][c]:^8.4f}', end=' ')\n",
    "    print(f' | {b[l][0]:^8.4f}]')\n",
    "print(\"=#\"*31, '\\n')\n",
    "\n",
    "class Pivoteamento(object):\n",
    "    def __init__(self, a, b):\n",
    "        self.a = a\n",
    "        self.b = b\n",
    "        # Linha e coluna onde se encontram o pivo\n",
    "        self.lAtual = 0\n",
    "        self.cAtual = 0\n",
    "\n",
    "    def mudarLinhas(self):\n",
    "        for l in range(self.lAtual, len(a) - 1):\n",
    "            if a[l][self.cAtual] < a[l + 1][self.cAtual]:\n",
    "                aux = np.array(a[l])\n",
    "                a[l] = a[l + 1]\n",
    "                a[l + 1] = aux\n",
    "\n",
    "                # Auxiliar utilizado uma segunda vez\n",
    "                aux = np.array(b[l])\n",
    "                b[l] = b[l + 1]\n",
    "                b[l + 1] = aux\n",
    "                break\n",
    "        self.pivotear(self.lAtual, self.cAtual)\n",
    "\n",
    "    def pivotear(self, lInicial, cInicial):\n",
    "        # lInicial / cInicial: linha/coluna onde se encontra o Pivo\n",
    "        pivo = a[lInicial][cInicial]\n",
    "        for l in range(lInicial + 1, len(a)):\n",
    "            elementoZerado = a[l][cInicial]\n",
    "            coeficiente = elementoZerado / pivo\n",
    "            a[l] = a[l] - coeficiente*a[lInicial]\n",
    "            b[l] = b[l] - coeficiente*b[lInicial]\n",
    "\n",
    "\n",
    "        self.lAtual +=1\n",
    "        self.cAtual +=1\n",
    "        self.estaEscalonada()\n",
    "\n",
    "    def iniciarPivoteamento(self):\n",
    "        self.mudarLinhas()\n",
    "\n",
    "    def estaEscalonada(self):\n",
    "        for c in range(len(a) - 1):\n",
    "            if a[len(a) - 1][c] != 0:\n",
    "                self.mudarLinhas()\n",
    "                break\n",
    "\n",
    "\n",
    "var = Pivoteamento(a, b)\n",
    "var.iniciarPivoteamento()\n",
    "\n",
    "print(\"Matriz final: \")\n",
    "for l in range(0, 3):\n",
    "    print('[', end='')\n",
    "    for c in range(0, 3):\n",
    "        print(f'{a[l][c]:^8.4f}', end=' ')\n",
    "    print(f' | {b[l][0]:^8.4f}]')\n",
    "\n",
    "a_inversa = np.linalg.inv(a)\n",
    "x = np.dot(a_inversa, b)\n"
   ]
  },
  {
   "cell_type": "code",
   "execution_count": 5,
   "metadata": {},
   "outputs": [
    {
     "name": "stdout",
     "output_type": "stream",
     "text": [
      "\n",
      "i1 = 0.2500\n",
      "i2 = 0.0000\n",
      "i3 = 0.6667\n"
     ]
    }
   ],
   "source": [
    "print(\"\\ni1 = {:.4f}\".format(x[0][0]))\n",
    "print(\"i2 = {:.4f}\".format(x[1][0]))\n",
    "print(\"i3 = {:.4f}\".format(x[2][0]))"
   ]
  },
  {
   "cell_type": "code",
   "execution_count": null,
   "metadata": {},
   "outputs": [],
   "source": []
  }
 ],
 "metadata": {
  "kernelspec": {
   "display_name": "Python 3",
   "language": "python",
   "name": "python3"
  },
  "language_info": {
   "codemirror_mode": {
    "name": "ipython",
    "version": 3
   },
   "file_extension": ".py",
   "mimetype": "text/x-python",
   "name": "python",
   "nbconvert_exporter": "python",
   "pygments_lexer": "ipython3",
   "version": "3.7.3"
  }
 },
 "nbformat": 4,
 "nbformat_minor": 2
}
