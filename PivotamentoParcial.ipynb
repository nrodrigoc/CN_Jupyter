{
 "cells": [
  {
   "cell_type": "markdown",
   "metadata": {
    "slideshow": {
     "slide_type": "slide"
    }
   },
   "source": [
    "# Método da pivotação parcial\n",
    "\n",
    "## Cálculo numérico"
   ]
  },
  {
   "cell_type": "code",
   "execution_count": 3,
   "metadata": {
    "collapsed": true,
    "slideshow": {
     "slide_type": "skip"
    }
   },
   "outputs": [
    {
     "name": "stdout",
     "output_type": "stream",
     "text": [
      "Requirement already satisfied: numpy in /srv/conda/envs/notebook/lib/python3.7/site-packages (1.17.1)\r\n"
     ]
    }
   ],
   "source": [
    "!pip install numpy"
   ]
  },
  {
   "cell_type": "code",
   "execution_count": 4,
   "metadata": {
    "collapsed": true
   },
   "outputs": [
    {
     "name": "stdout",
     "output_type": "stream",
     "text": [
      "Requirement already satisfied: RISE in /srv/conda/envs/notebook/lib/python3.7/site-packages (5.5.1)\n",
      "Requirement already satisfied: notebook>=5.5.0 in /srv/conda/envs/notebook/lib/python3.7/site-packages (from RISE) (5.7.8)\n",
      "Requirement already satisfied: prometheus-client in /srv/conda/envs/notebook/lib/python3.7/site-packages (from notebook>=5.5.0->RISE) (0.7.1)\n",
      "Requirement already satisfied: nbformat in /srv/conda/envs/notebook/lib/python3.7/site-packages (from notebook>=5.5.0->RISE) (4.4.0)\n",
      "Requirement already satisfied: jupyter-client>=5.2.0 in /srv/conda/envs/notebook/lib/python3.7/site-packages (from notebook>=5.5.0->RISE) (5.3.1)\n",
      "Requirement already satisfied: pyzmq>=17 in /srv/conda/envs/notebook/lib/python3.7/site-packages (from notebook>=5.5.0->RISE) (18.0.2)\n",
      "Requirement already satisfied: ipython-genutils in /srv/conda/envs/notebook/lib/python3.7/site-packages (from notebook>=5.5.0->RISE) (0.2.0)\n",
      "Requirement already satisfied: nbconvert in /srv/conda/envs/notebook/lib/python3.7/site-packages (from notebook>=5.5.0->RISE) (5.4.1)\n",
      "Requirement already satisfied: ipykernel in /srv/conda/envs/notebook/lib/python3.7/site-packages (from notebook>=5.5.0->RISE) (5.1.1)\n",
      "Requirement already satisfied: jupyter-core>=4.4.0 in /srv/conda/envs/notebook/lib/python3.7/site-packages (from notebook>=5.5.0->RISE) (4.4.0)\n",
      "Requirement already satisfied: Send2Trash in /srv/conda/envs/notebook/lib/python3.7/site-packages (from notebook>=5.5.0->RISE) (1.5.0)\n",
      "Requirement already satisfied: terminado>=0.8.1 in /srv/conda/envs/notebook/lib/python3.7/site-packages (from notebook>=5.5.0->RISE) (0.8.2)\n",
      "Requirement already satisfied: traitlets>=4.2.1 in /srv/conda/envs/notebook/lib/python3.7/site-packages (from notebook>=5.5.0->RISE) (4.3.2)\n",
      "Requirement already satisfied: tornado<7,>=4.1 in /srv/conda/envs/notebook/lib/python3.7/site-packages (from notebook>=5.5.0->RISE) (6.0.3)\n",
      "Requirement already satisfied: jinja2 in /srv/conda/envs/notebook/lib/python3.7/site-packages (from notebook>=5.5.0->RISE) (2.10.1)\n",
      "Requirement already satisfied: jsonschema!=2.5.0,>=2.4 in /srv/conda/envs/notebook/lib/python3.7/site-packages (from nbformat->notebook>=5.5.0->RISE) (3.0.1)\n",
      "Requirement already satisfied: python-dateutil>=2.1 in /srv/conda/envs/notebook/lib/python3.7/site-packages (from jupyter-client>=5.2.0->notebook>=5.5.0->RISE) (2.8.0)\n",
      "Requirement already satisfied: mistune>=0.8.1 in /srv/conda/envs/notebook/lib/python3.7/site-packages (from nbconvert->notebook>=5.5.0->RISE) (0.8.4)\n",
      "Requirement already satisfied: pygments in /srv/conda/envs/notebook/lib/python3.7/site-packages (from nbconvert->notebook>=5.5.0->RISE) (2.4.2)\n",
      "Requirement already satisfied: entrypoints>=0.2.2 in /srv/conda/envs/notebook/lib/python3.7/site-packages (from nbconvert->notebook>=5.5.0->RISE) (0.3)\n",
      "Requirement already satisfied: bleach in /srv/conda/envs/notebook/lib/python3.7/site-packages (from nbconvert->notebook>=5.5.0->RISE) (3.1.0)\n",
      "Requirement already satisfied: pandocfilters>=1.4.1 in /srv/conda/envs/notebook/lib/python3.7/site-packages (from nbconvert->notebook>=5.5.0->RISE) (1.4.2)\n",
      "Requirement already satisfied: testpath in /srv/conda/envs/notebook/lib/python3.7/site-packages (from nbconvert->notebook>=5.5.0->RISE) (0.4.2)\n",
      "Requirement already satisfied: defusedxml in /srv/conda/envs/notebook/lib/python3.7/site-packages (from nbconvert->notebook>=5.5.0->RISE) (0.5.0)\n",
      "Requirement already satisfied: ipython>=5.0.0 in /srv/conda/envs/notebook/lib/python3.7/site-packages (from ipykernel->notebook>=5.5.0->RISE) (7.7.0)\n",
      "Requirement already satisfied: six in /srv/conda/envs/notebook/lib/python3.7/site-packages (from traitlets>=4.2.1->notebook>=5.5.0->RISE) (1.12.0)\n",
      "Requirement already satisfied: decorator in /srv/conda/envs/notebook/lib/python3.7/site-packages (from traitlets>=4.2.1->notebook>=5.5.0->RISE) (4.4.0)\n",
      "Requirement already satisfied: MarkupSafe>=0.23 in /srv/conda/envs/notebook/lib/python3.7/site-packages (from jinja2->notebook>=5.5.0->RISE) (1.1.1)\n",
      "Requirement already satisfied: attrs>=17.4.0 in /srv/conda/envs/notebook/lib/python3.7/site-packages (from jsonschema!=2.5.0,>=2.4->nbformat->notebook>=5.5.0->RISE) (19.1.0)\n",
      "Requirement already satisfied: pyrsistent>=0.14.0 in /srv/conda/envs/notebook/lib/python3.7/site-packages (from jsonschema!=2.5.0,>=2.4->nbformat->notebook>=5.5.0->RISE) (0.15.4)\n",
      "Requirement already satisfied: setuptools in /srv/conda/envs/notebook/lib/python3.7/site-packages (from jsonschema!=2.5.0,>=2.4->nbformat->notebook>=5.5.0->RISE) (41.0.1)\n",
      "Requirement already satisfied: webencodings in /srv/conda/envs/notebook/lib/python3.7/site-packages (from bleach->nbconvert->notebook>=5.5.0->RISE) (0.5.1)\n",
      "Requirement already satisfied: jedi>=0.10 in /srv/conda/envs/notebook/lib/python3.7/site-packages (from ipython>=5.0.0->ipykernel->notebook>=5.5.0->RISE) (0.14.1)\n",
      "Requirement already satisfied: prompt-toolkit<2.1.0,>=2.0.0 in /srv/conda/envs/notebook/lib/python3.7/site-packages (from ipython>=5.0.0->ipykernel->notebook>=5.5.0->RISE) (2.0.9)\n",
      "Requirement already satisfied: backcall in /srv/conda/envs/notebook/lib/python3.7/site-packages (from ipython>=5.0.0->ipykernel->notebook>=5.5.0->RISE) (0.1.0)\n",
      "Requirement already satisfied: pexpect; sys_platform != \"win32\" in /srv/conda/envs/notebook/lib/python3.7/site-packages (from ipython>=5.0.0->ipykernel->notebook>=5.5.0->RISE) (4.7.0)\n",
      "Requirement already satisfied: pickleshare in /srv/conda/envs/notebook/lib/python3.7/site-packages (from ipython>=5.0.0->ipykernel->notebook>=5.5.0->RISE) (0.7.5)\n",
      "Requirement already satisfied: parso>=0.5.0 in /srv/conda/envs/notebook/lib/python3.7/site-packages (from jedi>=0.10->ipython>=5.0.0->ipykernel->notebook>=5.5.0->RISE) (0.5.1)\n",
      "Requirement already satisfied: wcwidth in /srv/conda/envs/notebook/lib/python3.7/site-packages (from prompt-toolkit<2.1.0,>=2.0.0->ipython>=5.0.0->ipykernel->notebook>=5.5.0->RISE) (0.1.7)\n",
      "Requirement already satisfied: ptyprocess>=0.5 in /srv/conda/envs/notebook/lib/python3.7/site-packages (from pexpect; sys_platform != \"win32\"->ipython>=5.0.0->ipykernel->notebook>=5.5.0->RISE) (0.6.0)\n"
     ]
    }
   ],
   "source": [
    "!pip install RISE"
   ]
  },
  {
   "cell_type": "code",
   "execution_count": 5,
   "metadata": {
    "slideshow": {
     "slide_type": "slide"
    }
   },
   "outputs": [
    {
     "name": "stdout",
     "output_type": "stream",
     "text": [
      "=#=#=#=#=#=#=#=#=#=# Pivoteamento Pacial =#=#=#=#=#=#=#=#=#=#\n",
      "Matriz inicial: \n",
      "[ 8.0000   6.0000   0.0000   |  2.0000 ]\n",
      "[ 2.0000  -8.0000   5.0000   |  4.0000 ]\n",
      "[-10.0000 10.0000  15.0000   |  8.0000 ]\n",
      "=#=#=#=#=#=#=#=#=#=#=#=#=#=#=#=#=#=#=#=#=#=#=#=#=#=#=#=#=#=#=# \n",
      "\n"
     ]
    }
   ],
   "source": [
    "import numpy as np\n",
    "\n",
    "a = np.array([[8, 6, 0], [2, -8, 5], [-10, 10, 15]])\n",
    "b = np.array([[2], [4], [8]])\n",
    "\n",
    "print(\"=#\"*10, \"Pivoteamento Pacial\", \"=#\"*10)\n",
    "print(\"Matriz inicial: \")\n",
    "for l in range(0, 3):\n",
    "    print('[', end='')\n",
    "    for c in range(0, 3):\n",
    "        print(f'{a[l][c]:^8.4f}', end=' ')\n",
    "    print(f' | {b[l][0]:^8.4f}]')\n",
    "print(\"=#\"*31, '\\n')"
   ]
  },
  {
   "cell_type": "code",
   "execution_count": 6,
   "metadata": {
    "slideshow": {
     "slide_type": "subslide"
    }
   },
   "outputs": [],
   "source": [
    "class Pivoteamento(object):\n",
    "    def __init__(self, a, b):\n",
    "        self.a = a\n",
    "        self.b = b\n",
    "        # Linha e coluna onde se encontram o pivo\n",
    "        self.lAtual = 0\n",
    "        self.cAtual = 0\n",
    "\n",
    "    def mudarLinhas(self):\n",
    "        for l in range(self.lAtual, len(a) - 1):\n",
    "            if a[l][self.cAtual] < a[l + 1][self.cAtual]:\n",
    "                aux = np.array(a[l])\n",
    "                a[l] = a[l + 1]\n",
    "                a[l + 1] = aux\n",
    "\n",
    "                # Auxiliar utilizado uma segunda vez\n",
    "                aux = np.array(b[l])\n",
    "                b[l] = b[l + 1]\n",
    "                b[l + 1] = aux\n",
    "                break\n",
    "        self.pivotear(self.lAtual, self.cAtual)\n",
    "\n",
    "    def pivotear(self, lInicial, cInicial):\n",
    "        # lInicial / cInicial: linha/coluna onde se encontra o Pivo\n",
    "        pivo = a[lInicial][cInicial]\n",
    "        for l in range(lInicial + 1, len(a)):\n",
    "            elementoZerado = a[l][cInicial]\n",
    "            coeficiente = elementoZerado / pivo\n",
    "            a[l] = a[l] - coeficiente*a[lInicial]\n",
    "            b[l] = b[l] - coeficiente*b[lInicial]\n",
    "\n",
    "\n",
    "        self.lAtual +=1\n",
    "        self.cAtual +=1\n",
    "        self.estaEscalonada()\n",
    "\n",
    "    def iniciarPivoteamento(self):\n",
    "        self.mudarLinhas()\n",
    "\n",
    "    def estaEscalonada(self):\n",
    "        for c in range(len(a) - 1):\n",
    "            if a[len(a) - 1][c] != 0:\n",
    "                self.mudarLinhas()\n",
    "                break"
   ]
  },
  {
   "cell_type": "code",
   "execution_count": 7,
   "metadata": {
    "slideshow": {
     "slide_type": "fragment"
    }
   },
   "outputs": [],
   "source": [
    "var = Pivoteamento(a, b)\n",
    "var.iniciarPivoteamento()\n",
    "\n",
    "a_inversa = np.linalg.inv(a)\n",
    "x = np.dot(a_inversa, b)"
   ]
  },
  {
   "cell_type": "code",
   "execution_count": 8,
   "metadata": {
    "slideshow": {
     "slide_type": "slide"
    }
   },
   "outputs": [
    {
     "name": "stdout",
     "output_type": "stream",
     "text": [
      "Matriz final: \n",
      "[ 8.0000   6.0000   0.0000   |  2.0000 ]\n",
      "[ 0.0000  17.0000  15.0000   | 10.0000 ]\n",
      "[ 0.0000   0.0000  12.0000   |  8.0000 ]\n"
     ]
    }
   ],
   "source": [
    "print(\"Matriz final: \")\n",
    "for l in range(0, 3):\n",
    "    print('[', end='')\n",
    "    for c in range(0, 3):\n",
    "        print(f'{a[l][c]:^8.4f}', end=' ')\n",
    "    print(f' | {b[l][0]:^8.4f}]')"
   ]
  },
  {
   "cell_type": "code",
   "execution_count": 9,
   "metadata": {
    "scrolled": true,
    "slideshow": {
     "slide_type": "slide"
    }
   },
   "outputs": [
    {
     "name": "stdout",
     "output_type": "stream",
     "text": [
      "\n",
      "i1 = 0.2500\n",
      "i2 = 0.0000\n",
      "i3 = 0.6667\n"
     ]
    }
   ],
   "source": [
    "print(\"\\ni1 = {:.4f}\".format(x[0][0]))\n",
    "print(\"i2 = {:.4f}\".format(x[1][0]))\n",
    "print(\"i3 = {:.4f}\".format(x[2][0]))\n",
    "\n",
    "x[0][0]"
   ]
  }
 ],
 "metadata": {
  "celltoolbar": "Slideshow",
  "kernelspec": {
   "display_name": "Python 3",
   "language": "python",
   "name": "python3"
  },
  "language_info": {
   "codemirror_mode": {
    "name": "ipython",
    "version": 3
   },
   "file_extension": ".py",
   "mimetype": "text/x-python",
   "name": "python",
   "nbconvert_exporter": "python",
   "pygments_lexer": "ipython3",
   "version": "3.7.3"
  }
 },
 "nbformat": 4,
 "nbformat_minor": 2
}
