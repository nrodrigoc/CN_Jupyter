{
 "cells": [
  {
   "cell_type": "markdown",
   "metadata": {},
   "source": [
    "# Método da pivotação parcial\n",
    "\n",
    "## Cálculo numérico"
   ]
  },
  {
   "cell_type": "code",
   "execution_count": 12,
   "metadata": {},
   "outputs": [
    {
     "name": "stdout",
     "output_type": "stream",
     "text": [
      "| 4.2000 2.3000 4.5000 |\n",
      "| 0.0000 4.5786 1.6929 |\n",
      "| 0.0000 0.0000 3.3463 |\n"
     ]
    }
   ],
   "source": [
    "import numpy as np\n",
    "\n",
    "a = np.array([[1.5, 5.4, 3.3], [4.2, 2.3, 4.5], [2.7, 5.7, 7.8]])\n",
    "b = np.array([[10], [11.7], [8.9]])\n",
    "\n",
    "class Pivoteamento(object):\n",
    "    def __init__(self, a, b):\n",
    "        self.a = a\n",
    "        self.b = b\n",
    "        # Linha e coluna onde se encontram o pivo\n",
    "        self.lAtual = 0\n",
    "        self.cAtual = 0\n",
    "\n",
    "    def mudarLinhas(self):\n",
    "        for l in range(self.lAtual, len(a) - 1):\n",
    "            if a[l][self.cAtual] < a[l + 1][self.cAtual]:\n",
    "                aux = np.array(a[l])\n",
    "                a[l] = a[l + 1]\n",
    "                a[l + 1] = aux\n",
    "\n",
    "                # Auxiliar utilizado uma segunda vez\n",
    "                aux = np.array(b[l])\n",
    "                b[l] = b[l + 1]\n",
    "                b[l + 1] = aux\n",
    "                break\n",
    "        self.pivotear(self.lAtual, self.cAtual)\n",
    "\n",
    "    def pivotear(self, lInicial, cInicial):\n",
    "        # lInicial / cInicial: linha/coluna onde se encontra o Pivo\n",
    "        pivo = a[lInicial][cInicial]\n",
    "        for l in range(lInicial + 1, len(a)):\n",
    "            elementoZerado = a[l][cInicial]\n",
    "            coeficiente = elementoZerado / pivo\n",
    "            a[l] = a[l] - coeficiente*a[lInicial]\n",
    "            b[l] = b[l] - coeficiente*b[lInicial]\n",
    "\n",
    "\n",
    "        self.lAtual +=1\n",
    "        self.cAtual +=1\n",
    "        self.estaEscalonada()\n",
    "\n",
    "    def iniciarPivoteamento(self):\n",
    "        self.mudarLinhas()\n",
    "\n",
    "    def estaEscalonada(self):\n",
    "        for c in range(len(a) - 1):\n",
    "            if a[len(a) - 1][c] != 0:\n",
    "                self.mudarLinhas()\n",
    "                break\n",
    "\n",
    "\n",
    "var = Pivoteamento(a, b)\n",
    "var.iniciarPivoteamento()\n",
    "\n",
    "for l in range(0, 3):\n",
    "    print('| ', end='')\n",
    "    for c in range(0, 3):\n",
    "        print('{:.4f} '.format(a[l][c]), end='')\n",
    "    print('|')\n",
    "\n",
    "a_inversa = np.linalg.inv(a)\n",
    "x = np.dot(a_inversa, b)"
   ]
  },
  {
   "cell_type": "code",
   "execution_count": 13,
   "metadata": {},
   "outputs": [
    {
     "name": "stdout",
     "output_type": "stream",
     "text": [
      "x1 = 3.1252\n",
      "x2 = 1.7122\n",
      "x3 = -1.1920\n"
     ]
    }
   ],
   "source": [
    "print(\"x1 = {:.4f}\".format(x[0][0]))\n",
    "print(\"x2 = {:.4f}\".format(x[1][0]))\n",
    "print(\"x3 = {:.4f}\".format(x[2][0]))"
   ]
  },
  {
   "cell_type": "code",
   "execution_count": null,
   "metadata": {},
   "outputs": [],
   "source": []
  }
 ],
 "metadata": {
  "kernelspec": {
   "display_name": "Python 3",
   "language": "python",
   "name": "python3"
  },
  "language_info": {
   "codemirror_mode": {
    "name": "ipython",
    "version": 3
   },
   "file_extension": ".py",
   "mimetype": "text/x-python",
   "name": "python",
   "nbconvert_exporter": "python",
   "pygments_lexer": "ipython3",
   "version": "3.6.7"
  }
 },
 "nbformat": 4,
 "nbformat_minor": 2
}
